{
 "cells": [
  {
   "cell_type": "code",
   "execution_count": 1,
   "metadata": {},
   "outputs": [
    {
     "data": {
      "text/plain": [
       "'e:\\\\github_clone\\\\Deep-Inverse-Reinforcement-Learning'"
      ]
     },
     "execution_count": 1,
     "metadata": {},
     "output_type": "execute_result"
    }
   ],
   "source": [
    "import os\n",
    "os.chdir('../')\n",
    "os.getcwd()"
   ]
  },
  {
   "cell_type": "code",
   "execution_count": 2,
   "metadata": {},
   "outputs": [],
   "source": [
    "import os\n",
    "import torch\n",
    "from datasets import load_dataset\n",
    "from algorithms import BehaviorClonning"
   ]
  },
  {
   "cell_type": "code",
   "execution_count": 3,
   "metadata": {},
   "outputs": [
    {
     "name": "stdout",
     "output_type": "stream",
     "text": [
      "DatasetDict({\n",
      "    train: Dataset({\n",
      "        features: ['obs', 'actions', 'rewards', 'episode_starts'],\n",
      "        num_rows: 383994\n",
      "    })\n",
      "})\n"
     ]
    }
   ],
   "source": [
    "dataset = load_dataset('NathanGavenski/LunarLander-v2')\n",
    "print(dataset)"
   ]
  },
  {
   "cell_type": "code",
   "execution_count": 4,
   "metadata": {},
   "outputs": [
    {
     "name": "stdout",
     "output_type": "stream",
     "text": [
      "Dataset({\n",
      "    features: ['obs', 'actions', 'rewards', 'episode_starts'],\n",
      "    num_rows: 376314\n",
      "})\n",
      "Dataset({\n",
      "    features: ['obs', 'actions', 'rewards', 'episode_starts'],\n",
      "    num_rows: 7680\n",
      "})\n"
     ]
    }
   ],
   "source": [
    "full_dataset = dataset['train'].train_test_split(test_size=0.02, shuffle=True)\n",
    "dataset_train = full_dataset['train']\n",
    "dataset_valid = full_dataset['test']\n",
    "\n",
    "print(dataset_train)\n",
    "print(dataset_valid)"
   ]
  },
  {
   "cell_type": "code",
   "execution_count": null,
   "metadata": {},
   "outputs": [],
   "source": []
  },
  {
   "cell_type": "markdown",
   "metadata": {},
   "source": [
    "# Data preparation"
   ]
  },
  {
   "cell_type": "code",
   "execution_count": 5,
   "metadata": {},
   "outputs": [],
   "source": [
    "def prepare_data(dataset):\n",
    "    states = []\n",
    "    actions = []\n",
    "    for data in dataset:\n",
    "        states.append(data['obs'])  # Assuming 'state' contains the input features\n",
    "        actions.append(data['actions'])  # Assuming 'action' is the label\n",
    "\n",
    "    # Convert lists to PyTorch tensors\n",
    "    X = torch.tensor(states, dtype=torch.float32)\n",
    "    y = torch.tensor(actions, dtype=torch.long)  # Ensure correct data type for classification\n",
    "\n",
    "    return X, y"
   ]
  },
  {
   "cell_type": "code",
   "execution_count": 6,
   "metadata": {},
   "outputs": [],
   "source": [
    "X_train, y_train = prepare_data(dataset_train)\n",
    "X_valid, y_valid = prepare_data(dataset_valid)"
   ]
  },
  {
   "cell_type": "code",
   "execution_count": 7,
   "metadata": {},
   "outputs": [
    {
     "name": "stdout",
     "output_type": "stream",
     "text": [
      "input dim : 8 \n",
      "action dim : 4\n"
     ]
    }
   ],
   "source": [
    "input_dim = X_train.shape[1]  # Number of features in state\n",
    "output_dim = len(set(y_train.numpy()))  \n",
    "print(f\"input dim : {input_dim} \\naction dim : {output_dim}\")"
   ]
  },
  {
   "cell_type": "markdown",
   "metadata": {},
   "source": [
    "# Model initialization"
   ]
  },
  {
   "cell_type": "code",
   "execution_count": 15,
   "metadata": {},
   "outputs": [],
   "source": [
    "bc_model = BehaviorClonning(input_dim, output_dim, learning_rate=1e-5)"
   ]
  },
  {
   "cell_type": "markdown",
   "metadata": {},
   "source": [
    "# Training"
   ]
  },
  {
   "cell_type": "code",
   "execution_count": 17,
   "metadata": {},
   "outputs": [
    {
     "name": "stdout",
     "output_type": "stream",
     "text": [
      "Epoch 1/50, Loss: 0.27027422189712524, Training Accuracy: 0.9489\n",
      "Model saved at artifacts\\model.pth\n",
      "Epoch 2/50, Loss: 0.14782539010047913, Training Accuracy: 0.9499\n",
      "Model saved at artifacts\\model.pth\n",
      "Epoch 3/50, Loss: 0.1551453173160553, Training Accuracy: 0.9504\n",
      "Model saved at artifacts\\model.pth\n",
      "Epoch 4/50, Loss: 0.1254883110523224, Training Accuracy: 0.9515\n",
      "Model saved at artifacts\\model.pth\n",
      "Epoch 5/50, Loss: 0.19697046279907227, Training Accuracy: 0.9541\n",
      "Model saved at artifacts\\model.pth\n",
      "Epoch 6/50, Loss: 0.15270306169986725, Training Accuracy: 0.9541\n",
      "Model saved at artifacts\\model.pth\n",
      "Epoch 7/50, Loss: 0.2548691928386688, Training Accuracy: 0.9574\n",
      "Model saved at artifacts\\model.pth\n",
      "Epoch 8/50, Loss: 0.30900970101356506, Training Accuracy: 0.9575\n",
      "Model saved at artifacts\\model.pth\n",
      "Epoch 9/50, Loss: 0.14011250436306, Training Accuracy: 0.9585\n",
      "Model saved at artifacts\\model.pth\n",
      "Epoch 10/50, Loss: 0.17924895882606506, Training Accuracy: 0.9600\n",
      "Model saved at artifacts\\model.pth\n",
      "Epoch 11/50, Loss: 0.15571260452270508, Training Accuracy: 0.9587\n",
      "Epoch 12/50, Loss: 0.10903327912092209, Training Accuracy: 0.9610\n",
      "Model saved at artifacts\\model.pth\n",
      "Epoch 13/50, Loss: 0.1302996277809143, Training Accuracy: 0.9635\n",
      "Model saved at artifacts\\model.pth\n",
      "Epoch 14/50, Loss: 0.109489805996418, Training Accuracy: 0.9639\n",
      "Model saved at artifacts\\model.pth\n",
      "Epoch 15/50, Loss: 0.1633199006319046, Training Accuracy: 0.9652\n",
      "Model saved at artifacts\\model.pth\n",
      "Epoch 16/50, Loss: 0.15560248494148254, Training Accuracy: 0.9668\n",
      "Model saved at artifacts\\model.pth\n",
      "Epoch 17/50, Loss: 0.0703047588467598, Training Accuracy: 0.9672\n",
      "Model saved at artifacts\\model.pth\n",
      "Epoch 18/50, Loss: 0.11494480073451996, Training Accuracy: 0.9654\n",
      "Epoch 19/50, Loss: 0.0970844179391861, Training Accuracy: 0.9675\n",
      "Model saved at artifacts\\model.pth\n",
      "Epoch 20/50, Loss: 0.16415129601955414, Training Accuracy: 0.9676\n",
      "Model saved at artifacts\\model.pth\n",
      "Epoch 21/50, Loss: 0.06781106442213058, Training Accuracy: 0.9701\n",
      "Model saved at artifacts\\model.pth\n",
      "Epoch 22/50, Loss: 0.11113563179969788, Training Accuracy: 0.9698\n",
      "Epoch 23/50, Loss: 0.1374434530735016, Training Accuracy: 0.9715\n",
      "Model saved at artifacts\\model.pth\n",
      "Epoch 24/50, Loss: 0.09738369286060333, Training Accuracy: 0.9691\n",
      "Epoch 25/50, Loss: 0.10481135547161102, Training Accuracy: 0.9719\n",
      "Model saved at artifacts\\model.pth\n",
      "Epoch 26/50, Loss: 0.12605801224708557, Training Accuracy: 0.9726\n",
      "Model saved at artifacts\\model.pth\n",
      "Epoch 27/50, Loss: 0.14987675845623016, Training Accuracy: 0.9729\n",
      "Model saved at artifacts\\model.pth\n",
      "Epoch 28/50, Loss: 0.11512812972068787, Training Accuracy: 0.9742\n",
      "Model saved at artifacts\\model.pth\n",
      "Epoch 29/50, Loss: 0.10122274607419968, Training Accuracy: 0.9719\n",
      "Epoch 30/50, Loss: 0.17101332545280457, Training Accuracy: 0.9718\n",
      "Epoch 31/50, Loss: 0.0972767174243927, Training Accuracy: 0.9749\n",
      "Model saved at artifacts\\model.pth\n",
      "Epoch 32/50, Loss: 0.07368200272321701, Training Accuracy: 0.9759\n",
      "Model saved at artifacts\\model.pth\n",
      "Epoch 33/50, Loss: 0.21174518764019012, Training Accuracy: 0.9727\n",
      "Epoch 34/50, Loss: 0.12623128294944763, Training Accuracy: 0.9754\n",
      "Epoch 35/50, Loss: 0.09389043599367142, Training Accuracy: 0.9752\n",
      "Epoch 36/50, Loss: 0.06474605947732925, Training Accuracy: 0.9771\n",
      "Model saved at artifacts\\model.pth\n",
      "Epoch 37/50, Loss: 0.06884750723838806, Training Accuracy: 0.9773\n",
      "Model saved at artifacts\\model.pth\n",
      "Epoch 38/50, Loss: 0.12487369030714035, Training Accuracy: 0.9783\n",
      "Model saved at artifacts\\model.pth\n",
      "Epoch 39/50, Loss: 0.10509402304887772, Training Accuracy: 0.9783\n",
      "Model saved at artifacts\\model.pth\n",
      "Epoch 40/50, Loss: 0.10289807617664337, Training Accuracy: 0.9790\n",
      "Model saved at artifacts\\model.pth\n",
      "Epoch 41/50, Loss: 0.08311115205287933, Training Accuracy: 0.9790\n",
      "Epoch 42/50, Loss: 0.1565917432308197, Training Accuracy: 0.9789\n",
      "Epoch 43/50, Loss: 0.09174790978431702, Training Accuracy: 0.9802\n",
      "Model saved at artifacts\\model.pth\n",
      "Epoch 44/50, Loss: 0.1590048372745514, Training Accuracy: 0.9797\n",
      "Epoch 45/50, Loss: 0.10182441771030426, Training Accuracy: 0.9777\n",
      "Epoch 46/50, Loss: 0.11247389018535614, Training Accuracy: 0.9807\n",
      "Model saved at artifacts\\model.pth\n",
      "Epoch 47/50, Loss: 0.04045209661126137, Training Accuracy: 0.9808\n",
      "Model saved at artifacts\\model.pth\n",
      "Epoch 48/50, Loss: 0.16856466233730316, Training Accuracy: 0.9805\n",
      "Epoch 49/50, Loss: 0.09388014674186707, Training Accuracy: 0.9819\n",
      "Model saved at artifacts\\model.pth\n",
      "Epoch 50/50, Loss: 0.05568130314350128, Training Accuracy: 0.9814\n"
     ]
    }
   ],
   "source": [
    "bc_model.train(X_train, y_train, epochs=50, batch_size=32)"
   ]
  },
  {
   "cell_type": "code",
   "execution_count": 18,
   "metadata": {},
   "outputs": [
    {
     "data": {
      "text/plain": [
       "0.9811197916666666"
      ]
     },
     "execution_count": 18,
     "metadata": {},
     "output_type": "execute_result"
    }
   ],
   "source": [
    "bc_model.evaluate(X_test=X_valid, y_test=y_valid)"
   ]
  },
  {
   "cell_type": "code",
   "execution_count": 34,
   "metadata": {},
   "outputs": [
    {
     "data": {
      "text/plain": [
       "2"
      ]
     },
     "execution_count": 34,
     "metadata": {},
     "output_type": "execute_result"
    }
   ],
   "source": [
    "bc_model.predict(X_valid[0].unsqueeze(0)).item()"
   ]
  },
  {
   "cell_type": "code",
   "execution_count": 37,
   "metadata": {},
   "outputs": [],
   "source": [
    "import gym\n",
    "env = gym.make('LunarLander-v2')\n",
    "obs, _ = env.reset()"
   ]
  },
  {
   "cell_type": "code",
   "execution_count": 42,
   "metadata": {},
   "outputs": [
    {
     "data": {
      "text/plain": [
       "torch.Size([1, 8])"
      ]
     },
     "execution_count": 42,
     "metadata": {},
     "output_type": "execute_result"
    }
   ],
   "source": [
    "torch.Tensor(obs).unsqueeze(0).shape"
   ]
  },
  {
   "cell_type": "code",
   "execution_count": null,
   "metadata": {},
   "outputs": [],
   "source": []
  }
 ],
 "metadata": {
  "kernelspec": {
   "display_name": "PCC",
   "language": "python",
   "name": "python3"
  },
  "language_info": {
   "codemirror_mode": {
    "name": "ipython",
    "version": 3
   },
   "file_extension": ".py",
   "mimetype": "text/x-python",
   "name": "python",
   "nbconvert_exporter": "python",
   "pygments_lexer": "ipython3",
   "version": "3.8.0"
  }
 },
 "nbformat": 4,
 "nbformat_minor": 2
}
